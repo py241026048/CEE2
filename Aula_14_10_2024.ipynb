{
  "nbformat": 4,
  "nbformat_minor": 0,
  "metadata": {
    "colab": {
      "provenance": [],
      "authorship_tag": "ABX9TyPsdjoaXZirib1nUORgl3wn",
      "include_colab_link": true
    },
    "kernelspec": {
      "name": "python3",
      "display_name": "Python 3"
    },
    "language_info": {
      "name": "python"
    }
  },
  "cells": [
    {
      "cell_type": "markdown",
      "metadata": {
        "id": "view-in-github",
        "colab_type": "text"
      },
      "source": [
        "<a href=\"https://colab.research.google.com/github/py241026048/CEE2/blob/main/Aula_14_10_2024.ipynb\" target=\"_parent\"><img src=\"https://colab.research.google.com/assets/colab-badge.svg\" alt=\"Open In Colab\"/></a>"
      ]
    },
    {
      "cell_type": "code",
      "execution_count": null,
      "metadata": {
        "id": "VSrke_NFEwvS"
      },
      "outputs": [],
      "source": []
    },
    {
      "cell_type": "markdown",
      "source": [
        "#Operções matemáticas"
      ],
      "metadata": {
        "id": "KaxVss3uFWyV"
      }
    },
    {
      "cell_type": "markdown",
      "source": [
        "##Soma"
      ],
      "metadata": {
        "id": "-LMeNvpoFa1Y"
      }
    },
    {
      "cell_type": "markdown",
      "source": [
        "Esse é um **código** que soma $a+b$"
      ],
      "metadata": {
        "id": "of1_MTyyE0Vr"
      }
    },
    {
      "cell_type": "code",
      "source": [
        "a = 5\n",
        "b = 10\n",
        "a + b"
      ],
      "metadata": {
        "colab": {
          "base_uri": "https://localhost:8080/"
        },
        "id": "0KIOjXBcE87w",
        "outputId": "31793799-747e-408e-c2c7-2dff61275176"
      },
      "execution_count": null,
      "outputs": [
        {
          "output_type": "execute_result",
          "data": {
            "text/plain": [
              "15"
            ]
          },
          "metadata": {},
          "execution_count": 1
        }
      ]
    },
    {
      "cell_type": "markdown",
      "source": [
        "##Multiplicação\n"
      ],
      "metadata": {
        "id": "xLioxiCGFoWI"
      }
    },
    {
      "cell_type": "markdown",
      "source": [
        "Esse é um **código** que multiplica $$a \\times b$$"
      ],
      "metadata": {
        "id": "FwAI7sHBFuXI"
      }
    },
    {
      "cell_type": "code",
      "source": [
        "a = 5\n",
        "b = 10\n",
        "a * b"
      ],
      "metadata": {
        "colab": {
          "base_uri": "https://localhost:8080/"
        },
        "id": "PeqtOp_XF6Tg",
        "outputId": "f5bd239b-6525-4549-92d1-7d6c0f45f573"
      },
      "execution_count": null,
      "outputs": [
        {
          "output_type": "execute_result",
          "data": {
            "text/plain": [
              "50"
            ]
          },
          "metadata": {},
          "execution_count": 2
        }
      ]
    }
  ]
}